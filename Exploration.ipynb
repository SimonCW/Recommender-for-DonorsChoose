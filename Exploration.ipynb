{
 "cells": [
  {
   "cell_type": "markdown",
   "metadata": {},
   "source": [
    "# Project Recommendations for DonorsChoose\n",
    "\n",
    "This notebook explores different approaches to helping [DonorsChoose](https://www.donorschoose.org/) recommend the right project to right user.\n",
    "So far we have tried the following methods:\n",
    "- Content-based recommendations using tfidf\n",
    "- ...\n",
    "\n",
    "Other relevant methods:\n",
    "- Topic models using LDA\n",
    "- ..."
   ]
  },
  {
   "cell_type": "code",
   "execution_count": 34,
   "metadata": {
    "collapsed": true
   },
   "outputs": [],
   "source": [
    "import numpy as np\n",
    "import pandas as pd\n",
    "import os\n",
    "from sklearn.feature_extraction.text import TfidfVectorizer"
   ]
  },
  {
   "cell_type": "markdown",
   "metadata": {},
   "source": [
    "### Load and trim data"
   ]
  },
  {
   "cell_type": "code",
   "execution_count": 40,
   "metadata": {},
   "outputs": [
    {
     "ename": "NameError",
     "evalue": "name 'project' is not defined",
     "output_type": "error",
     "traceback": [
      "\u001b[1;31m---------------------------------------------------------------------------\u001b[0m",
      "\u001b[1;31mNameError\u001b[0m                                 Traceback (most recent call last)",
      "\u001b[1;32m<ipython-input-40-1a7507520cf0>\u001b[0m in \u001b[0;36m<module>\u001b[1;34m()\u001b[0m\n\u001b[0;32m      9\u001b[0m \u001b[1;33m\u001b[0m\u001b[0m\n\u001b[0;32m     10\u001b[0m \u001b[1;31m# Remove rows not containing a valid ID (i.e. not a 32 chars ID)\u001b[0m\u001b[1;33m\u001b[0m\u001b[1;33m\u001b[0m\u001b[0m\n\u001b[1;32m---> 11\u001b[1;33m \u001b[0mprojects\u001b[0m \u001b[1;33m=\u001b[0m \u001b[0mproject\u001b[0m\u001b[1;33m.\u001b[0m\u001b[0mloc\u001b[0m\u001b[1;33m[\u001b[0m\u001b[0mprojects\u001b[0m\u001b[1;33m.\u001b[0m\u001b[0mloc\u001b[0m\u001b[1;33m[\u001b[0m\u001b[1;33m:\u001b[0m\u001b[1;33m,\u001b[0m\u001b[1;34m\"Project ID\"\u001b[0m\u001b[1;33m]\u001b[0m\u001b[1;33m.\u001b[0m\u001b[0mstr\u001b[0m\u001b[1;33m.\u001b[0m\u001b[0mlen\u001b[0m\u001b[1;33m(\u001b[0m\u001b[1;33m)\u001b[0m \u001b[1;33m==\u001b[0m \u001b[1;36m32\u001b[0m\u001b[1;33m,\u001b[0m\u001b[1;33m:\u001b[0m\u001b[1;33m]\u001b[0m\u001b[1;33m\u001b[0m\u001b[0m\n\u001b[0m",
      "\u001b[1;31mNameError\u001b[0m: name 'project' is not defined"
     ]
    }
   ],
   "source": [
    "# Test flag for faster exploration\n",
    "test_mode = True\n",
    "\n",
    "projects = pd.read_csv(os.path.join(os.getcwd(), \"data\", \"Projects.csv\"), error_bad_lines=False, warn_bad_lines=False,\n",
    "                      parse_dates=[\"Project Posted Date\", \"Project Fully Funded Date\"])\n",
    "\n",
    "if test_mode:\n",
    "    projects = projects.head(10000)\n",
    "    \n",
    "# Remove rows not containing a valid ID (i.e. not a 32 chars ID)\n",
    "projects = project.loc[projects.loc[:,\"Project ID\"].str.len() == 32,:]"
   ]
  },
  {
   "cell_type": "code",
   "execution_count": 30,
   "metadata": {},
   "outputs": [
    {
     "data": {
      "text/plain": [
       "(9892, 16)"
      ]
     },
     "execution_count": 30,
     "metadata": {},
     "output_type": "execute_result"
    }
   ],
   "source": [
    "projects.shape"
   ]
  },
  {
   "cell_type": "code",
   "execution_count": 32,
   "metadata": {},
   "outputs": [
    {
     "data": {
      "text/plain": [
       "9892"
      ]
     },
     "execution_count": 32,
     "metadata": {},
     "output_type": "execute_result"
    }
   ],
   "source": [
    "projects.loc[:,\"Project ID\"].nunique()"
   ]
  },
  {
   "cell_type": "code",
   "execution_count": 67,
   "metadata": {
    "scrolled": true
   },
   "outputs": [
    {
     "data": {
      "text/html": [
       "<div>\n",
       "<style scoped>\n",
       "    .dataframe tbody tr th:only-of-type {\n",
       "        vertical-align: middle;\n",
       "    }\n",
       "\n",
       "    .dataframe tbody tr th {\n",
       "        vertical-align: top;\n",
       "    }\n",
       "\n",
       "    .dataframe thead th {\n",
       "        text-align: right;\n",
       "    }\n",
       "</style>\n",
       "<table border=\"1\" class=\"dataframe\">\n",
       "  <thead>\n",
       "    <tr style=\"text-align: right;\">\n",
       "      <th></th>\n",
       "      <th>Project ID</th>\n",
       "      <th>School ID</th>\n",
       "      <th>Teacher ID</th>\n",
       "      <th>Teacher Project Posted Sequence</th>\n",
       "      <th>Project Type</th>\n",
       "      <th>Project Title</th>\n",
       "      <th>Project Essay</th>\n",
       "      <th>Project Subject Category Tree</th>\n",
       "      <th>Project Subject Subcategory Tree</th>\n",
       "      <th>Project Grade Level Category</th>\n",
       "      <th>Project Resource Category</th>\n",
       "      <th>Project Cost</th>\n",
       "      <th>Project Posted Date</th>\n",
       "      <th>Project Current Status</th>\n",
       "      <th>Project Fully Funded Date</th>\n",
       "    </tr>\n",
       "  </thead>\n",
       "  <tbody>\n",
       "    <tr>\n",
       "      <th>0</th>\n",
       "      <td>77b7d3f2ac4e32d538914e4a8cb8a525</td>\n",
       "      <td>c2d5cb0a29a62e72cdccee939f434181</td>\n",
       "      <td>59f7d2c62f7e76a99d31db6f62b7b67c</td>\n",
       "      <td>2</td>\n",
       "      <td>Teacher-Led</td>\n",
       "      <td>anti-bullying begins with me</td>\n",
       "      <td>do you remember your favorite classroom from e...</td>\n",
       "      <td>Applied Learning, Literacy &amp; Language</td>\n",
       "      <td>Character Education, Literacy</td>\n",
       "      <td>Grades PreK-2</td>\n",
       "      <td>Books</td>\n",
       "      <td>$490.38</td>\n",
       "      <td>2013-01-01</td>\n",
       "      <td>Fully Funded</td>\n",
       "      <td>2013-03-12</td>\n",
       "    </tr>\n",
       "    <tr>\n",
       "      <th>1</th>\n",
       "      <td>fd928b7f6386366a9cad2bea40df4b25</td>\n",
       "      <td>8acbb544c9215b25c71a0c655200baea</td>\n",
       "      <td>8fbd92394e20d647ddcdc6085ce1604b</td>\n",
       "      <td>1</td>\n",
       "      <td>Teacher-Led</td>\n",
       "      <td>ukuleles for middle schoolers</td>\n",
       "      <td>what sound is happier than a ukulele?  we have...</td>\n",
       "      <td>Music &amp; The Arts</td>\n",
       "      <td>Music</td>\n",
       "      <td>Grades 6-8</td>\n",
       "      <td>Supplies</td>\n",
       "      <td>$420.61</td>\n",
       "      <td>2013-01-01</td>\n",
       "      <td>Expired</td>\n",
       "      <td>nan</td>\n",
       "    </tr>\n",
       "    <tr>\n",
       "      <th>2</th>\n",
       "      <td>7c915e8e1d27f10a94abd689e99c336f</td>\n",
       "      <td>0ae85ea7c7acc41cffa9f81dc61d46df</td>\n",
       "      <td>9140ac16d2e6cee45bd50b0b2ce8cd04</td>\n",
       "      <td>2</td>\n",
       "      <td>Teacher-Led</td>\n",
       "      <td>big books, flip books, and everything in between</td>\n",
       "      <td>my 1st graders may be small, but they have big...</td>\n",
       "      <td>Special Needs\"</td>\n",
       "      <td>Literacy, Special Needs</td>\n",
       "      <td>Grades PreK-2</td>\n",
       "      <td>Books</td>\n",
       "      <td>$510.46</td>\n",
       "      <td>2013-01-01</td>\n",
       "      <td>Fully Funded</td>\n",
       "      <td>2013-01-07</td>\n",
       "    </tr>\n",
       "    <tr>\n",
       "      <th>3</th>\n",
       "      <td>feeec44c2a3a3d9a31c137a9780d2521</td>\n",
       "      <td>deddcdb20f86599cefa5e7eb31da309b</td>\n",
       "      <td>63750e765b46f9fa4d71e780047e896e</td>\n",
       "      <td>1</td>\n",
       "      <td>Teacher-Led</td>\n",
       "      <td>a little for a lot</td>\n",
       "      <td>our students were so excited to come to school...</td>\n",
       "      <td>Math &amp; Science, Literacy &amp; Language</td>\n",
       "      <td>Applied Sciences, Literature &amp; Writing</td>\n",
       "      <td>Grades 3-5</td>\n",
       "      <td>Supplies</td>\n",
       "      <td>$282.80</td>\n",
       "      <td>2013-01-01</td>\n",
       "      <td>Fully Funded</td>\n",
       "      <td>2013-05-29</td>\n",
       "    </tr>\n",
       "    <tr>\n",
       "      <th>4</th>\n",
       "      <td>037719bf60853f234610458a210f45a9</td>\n",
       "      <td>f3f0dc60ba3026944eeffe8b76cb8d9c</td>\n",
       "      <td>0d5b4cc12b2eb00013460d0ac38ce2a2</td>\n",
       "      <td>1</td>\n",
       "      <td>Teacher-Led</td>\n",
       "      <td>technology in the classroom</td>\n",
       "      <td>were you ever that kid that struggled to stay ...</td>\n",
       "      <td>Literacy &amp; Language, Math &amp; Science</td>\n",
       "      <td>Literacy, Mathematics</td>\n",
       "      <td>Grades PreK-2</td>\n",
       "      <td>Technology</td>\n",
       "      <td>$555.28</td>\n",
       "      <td>2013-01-01</td>\n",
       "      <td>Fully Funded</td>\n",
       "      <td>2013-02-14</td>\n",
       "    </tr>\n",
       "  </tbody>\n",
       "</table>\n",
       "</div>"
      ],
      "text/plain": [
       "                         Project ID                         School ID  \\\n",
       "0  77b7d3f2ac4e32d538914e4a8cb8a525  c2d5cb0a29a62e72cdccee939f434181   \n",
       "1  fd928b7f6386366a9cad2bea40df4b25  8acbb544c9215b25c71a0c655200baea   \n",
       "2  7c915e8e1d27f10a94abd689e99c336f  0ae85ea7c7acc41cffa9f81dc61d46df   \n",
       "3  feeec44c2a3a3d9a31c137a9780d2521  deddcdb20f86599cefa5e7eb31da309b   \n",
       "4  037719bf60853f234610458a210f45a9  f3f0dc60ba3026944eeffe8b76cb8d9c   \n",
       "\n",
       "                         Teacher ID Teacher Project Posted Sequence  \\\n",
       "0  59f7d2c62f7e76a99d31db6f62b7b67c                               2   \n",
       "1  8fbd92394e20d647ddcdc6085ce1604b                               1   \n",
       "2  9140ac16d2e6cee45bd50b0b2ce8cd04                               2   \n",
       "3  63750e765b46f9fa4d71e780047e896e                               1   \n",
       "4  0d5b4cc12b2eb00013460d0ac38ce2a2                               1   \n",
       "\n",
       "  Project Type                                     Project Title  \\\n",
       "0  Teacher-Led                      anti-bullying begins with me   \n",
       "1  Teacher-Led                     ukuleles for middle schoolers   \n",
       "2  Teacher-Led  big books, flip books, and everything in between   \n",
       "3  Teacher-Led                                a little for a lot   \n",
       "4  Teacher-Led                       technology in the classroom   \n",
       "\n",
       "                                       Project Essay  \\\n",
       "0  do you remember your favorite classroom from e...   \n",
       "1  what sound is happier than a ukulele?  we have...   \n",
       "2  my 1st graders may be small, but they have big...   \n",
       "3  our students were so excited to come to school...   \n",
       "4  were you ever that kid that struggled to stay ...   \n",
       "\n",
       "           Project Subject Category Tree  \\\n",
       "0  Applied Learning, Literacy & Language   \n",
       "1                       Music & The Arts   \n",
       "2                         Special Needs\"   \n",
       "3    Math & Science, Literacy & Language   \n",
       "4    Literacy & Language, Math & Science   \n",
       "\n",
       "         Project Subject Subcategory Tree Project Grade Level Category  \\\n",
       "0           Character Education, Literacy                Grades PreK-2   \n",
       "1                                   Music                   Grades 6-8   \n",
       "2                 Literacy, Special Needs                Grades PreK-2   \n",
       "3  Applied Sciences, Literature & Writing                   Grades 3-5   \n",
       "4                   Literacy, Mathematics                Grades PreK-2   \n",
       "\n",
       "  Project Resource Category Project Cost Project Posted Date  \\\n",
       "0                     Books      $490.38          2013-01-01   \n",
       "1                  Supplies      $420.61          2013-01-01   \n",
       "2                     Books      $510.46          2013-01-01   \n",
       "3                  Supplies      $282.80          2013-01-01   \n",
       "4                Technology      $555.28          2013-01-01   \n",
       "\n",
       "  Project Current Status Project Fully Funded Date  \n",
       "0           Fully Funded                2013-03-12  \n",
       "1                Expired                       nan  \n",
       "2           Fully Funded                2013-01-07  \n",
       "3           Fully Funded                2013-05-29  \n",
       "4           Fully Funded                2013-02-14  "
      ]
     },
     "execution_count": 67,
     "metadata": {},
     "output_type": "execute_result"
    }
   ],
   "source": [
    "projects.head()"
   ]
  },
  {
   "cell_type": "markdown",
   "metadata": {},
   "source": [
    "### Preprocess text data"
   ]
  },
  {
   "cell_type": "code",
   "execution_count": 54,
   "metadata": {},
   "outputs": [
    {
     "data": {
      "text/plain": [
       "Project ID                          object\n",
       "School ID                           object\n",
       "Teacher ID                          object\n",
       "Teacher Project Posted Sequence     object\n",
       "Project Type                        object\n",
       "Project Title                       object\n",
       "Project Essay                       object\n",
       "Project Subject Category Tree       object\n",
       "Project Subject Subcategory Tree    object\n",
       "Project Grade Level Category        object\n",
       "Project Resource Category           object\n",
       "Project Cost                        object\n",
       "Project Posted Date                 object\n",
       "Project Current Status              object\n",
       "Project Fully Funded Date           object\n",
       "dtype: object"
      ]
     },
     "execution_count": 54,
     "metadata": {},
     "output_type": "execute_result"
    }
   ],
   "source": [
    "projects.dtypes"
   ]
  },
  {
   "cell_type": "code",
   "execution_count": 65,
   "metadata": {
    "scrolled": true
   },
   "outputs": [],
   "source": [
    "text_features = [\"Project Title\", \"Project Essay\"]\n",
    "\n",
    "# Preprocess text columns to make them comparable\n",
    "for feature in text_features:\n",
    "    projects.loc[:,feature] = projects.loc[:,feature].astype(str).fillna(\"\")\n",
    "    projects.loc[:,feature] = projects.loc[:,feature].str.lower()\n",
    "    \n",
    "text = projects[\"Project Title\"] + \" \" + projects[\"Project Essay\"] # This is a pandas series containing title and essay text\n",
    "\n",
    "vectorizer = TfidfVectorizer(strip_accents=\"unicode\",\n",
    "                            analyzer=\"word\",\n",
    "                            stop_words=\"english\",\n",
    "                            max_df=0.9)\n",
    "\n",
    "tfidf_matrix = vectorizer.fit_transform(text)\n",
    "tfidf_feature_names = vectorizer.get_feature_names()"
   ]
  },
  {
   "cell_type": "code",
   "execution_count": 66,
   "metadata": {},
   "outputs": [
    {
     "data": {
      "text/plain": [
       "<10000x22984 sparse matrix of type '<class 'numpy.float64'>'\n",
       "\twith 910659 stored elements in Compressed Sparse Row format>"
      ]
     },
     "execution_count": 66,
     "metadata": {},
     "output_type": "execute_result"
    }
   ],
   "source": [
    "tfidf_matrix"
   ]
  },
  {
   "cell_type": "code",
   "execution_count": 62,
   "metadata": {},
   "outputs": [
    {
     "data": {
      "text/plain": [
       "pandas.core.series.Series"
      ]
     },
     "execution_count": 62,
     "metadata": {},
     "output_type": "execute_result"
    }
   ],
   "source": [
    "type(text)"
   ]
  },
  {
   "cell_type": "markdown",
   "metadata": {},
   "source": [
    "### Topic Modeling"
   ]
  },
  {
   "cell_type": "code",
   "execution_count": null,
   "metadata": {
    "collapsed": true
   },
   "outputs": [],
   "source": []
  }
 ],
 "metadata": {
  "kernelspec": {
   "display_name": "Python [conda env:DonorsChoose]",
   "language": "python",
   "name": "conda-env-DonorsChoose-py"
  },
  "language_info": {
   "codemirror_mode": {
    "name": "ipython",
    "version": 3
   },
   "file_extension": ".py",
   "mimetype": "text/x-python",
   "name": "python",
   "nbconvert_exporter": "python",
   "pygments_lexer": "ipython3",
   "version": "3.6.0"
  }
 },
 "nbformat": 4,
 "nbformat_minor": 2
}
