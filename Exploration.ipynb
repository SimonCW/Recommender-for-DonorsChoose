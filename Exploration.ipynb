{
 "cells": [
  {
   "cell_type": "markdown",
   "metadata": {},
   "source": [
    "# Project Recommendations for DonorsChoose\n",
    "\n",
    "This notebook explores different approaches to helping [DonorsChoose](https://www.donorschoose.org/) recommend the right project to right user.\n",
    "So far we have tried the following methods:\n",
    "- Content-based recommendations using tfidf\n",
    "    - tfidf project descriptions\n",
    "    - Calcualte document distances (e.g. cosine similarity)\n",
    "    - Explore document similarity\n",
    "    - Create recommendations based on similarity \n",
    "    - Create evaluation metric to test whether similarity is a good predictor for recommendations\n",
    "        - E.g. For users with #donations > 1 omit last donation, get ranking based on similar projects, check the ranking score of actually donated (omitted) projects\n",
    "        - Compare score agains popularity \"algorithm\" performance and \"recommending distinct projects\" or \"random projects\"\n",
    "- ...\n",
    "\n",
    "Other relevant methods:\n",
    "- Topic models using LDA\n",
    "- Tag generation (automated tagging)"
   ]
  },
  {
   "cell_type": "markdown",
   "metadata": {},
   "source": [
    "### Links\n",
    "\n",
    "- Nice tfidf helper code: https://towardsdatascience.com/hacking-scikit-learns-vectorizers-9ef26a7170af\n",
    "- We started doing approximately the content based recommender from here: https://www.kaggle.com/ranliu/donor-project-matching-with-recommender-systems/code (with more code but different challenge here: https://www.kaggle.com/gspmoreira/recommender-systems-in-python-101/code)"
   ]
  },
  {
   "cell_type": "markdown",
   "metadata": {},
   "source": [
    "# Code"
   ]
  },
  {
   "cell_type": "markdown",
   "metadata": {},
   "source": [
    "## Prerequisites\n",
    "To install spacy and download the English language model run: `\n",
    "conda install -c conda-forge spacy` and `python -m spacy download en`"
   ]
  },
  {
   "cell_type": "code",
   "execution_count": 52,
   "metadata": {},
   "outputs": [],
   "source": [
    "import numpy as np\n",
    "import pandas as pd\n",
    "import os\n",
    "import spacy\n",
    "from sklearn.feature_extraction.text import TfidfVectorizer"
   ]
  },
  {
   "cell_type": "markdown",
   "metadata": {},
   "source": [
    "### Load and trim data"
   ]
  },
  {
   "cell_type": "code",
   "execution_count": 4,
   "metadata": {},
   "outputs": [],
   "source": [
    "# Test flag for faster exploration\n",
    "test_mode = True\n",
    "\n",
    "projects = pd.read_csv(os.path.join(os.getcwd(), \"data\", \"Projects.csv\"), error_bad_lines=False, warn_bad_lines=False,\n",
    "                      parse_dates=[\"Project Posted Date\", \"Project Fully Funded Date\"])\n",
    "\n",
    "if test_mode:\n",
    "    projects = projects.head(10000)\n",
    "    \n",
    "# Remove rows not containing a valid ID (i.e. not a 32 chars ID)\n",
    "projects = projects.loc[projects.loc[:,\"Project ID\"].str.len() == 32,:]"
   ]
  },
  {
   "cell_type": "code",
   "execution_count": 5,
   "metadata": {},
   "outputs": [
    {
     "data": {
      "text/plain": [
       "(10000, 15)"
      ]
     },
     "execution_count": 5,
     "metadata": {},
     "output_type": "execute_result"
    }
   ],
   "source": [
    "projects.shape"
   ]
  },
  {
   "cell_type": "code",
   "execution_count": 6,
   "metadata": {},
   "outputs": [
    {
     "data": {
      "text/plain": [
       "10000"
      ]
     },
     "execution_count": 6,
     "metadata": {},
     "output_type": "execute_result"
    }
   ],
   "source": [
    "projects.loc[:,\"Project ID\"].nunique()"
   ]
  },
  {
   "cell_type": "code",
   "execution_count": 7,
   "metadata": {
    "scrolled": true
   },
   "outputs": [
    {
     "data": {
      "text/html": [
       "<div>\n",
       "<style scoped>\n",
       "    .dataframe tbody tr th:only-of-type {\n",
       "        vertical-align: middle;\n",
       "    }\n",
       "\n",
       "    .dataframe tbody tr th {\n",
       "        vertical-align: top;\n",
       "    }\n",
       "\n",
       "    .dataframe thead th {\n",
       "        text-align: right;\n",
       "    }\n",
       "</style>\n",
       "<table border=\"1\" class=\"dataframe\">\n",
       "  <thead>\n",
       "    <tr style=\"text-align: right;\">\n",
       "      <th></th>\n",
       "      <th>Project ID</th>\n",
       "      <th>School ID</th>\n",
       "      <th>Teacher ID</th>\n",
       "      <th>Teacher Project Posted Sequence</th>\n",
       "      <th>Project Type</th>\n",
       "      <th>Project Title</th>\n",
       "      <th>Project Essay</th>\n",
       "      <th>Project Subject Category Tree</th>\n",
       "      <th>Project Subject Subcategory Tree</th>\n",
       "      <th>Project Grade Level Category</th>\n",
       "      <th>Project Resource Category</th>\n",
       "      <th>Project Cost</th>\n",
       "      <th>Project Posted Date</th>\n",
       "      <th>Project Current Status</th>\n",
       "      <th>Project Fully Funded Date</th>\n",
       "    </tr>\n",
       "  </thead>\n",
       "  <tbody>\n",
       "    <tr>\n",
       "      <th>0</th>\n",
       "      <td>77b7d3f2ac4e32d538914e4a8cb8a525</td>\n",
       "      <td>c2d5cb0a29a62e72cdccee939f434181</td>\n",
       "      <td>59f7d2c62f7e76a99d31db6f62b7b67c</td>\n",
       "      <td>2</td>\n",
       "      <td>Teacher-Led</td>\n",
       "      <td>Anti-Bullying Begins with Me</td>\n",
       "      <td>do you remember your favorite classroom from e...</td>\n",
       "      <td>Applied Learning, Literacy &amp; Language</td>\n",
       "      <td>Character Education, Literacy</td>\n",
       "      <td>Grades PreK-2</td>\n",
       "      <td>Books</td>\n",
       "      <td>$490.38</td>\n",
       "      <td>2013-01-01</td>\n",
       "      <td>Fully Funded</td>\n",
       "      <td>2013-03-12</td>\n",
       "    </tr>\n",
       "    <tr>\n",
       "      <th>1</th>\n",
       "      <td>fd928b7f6386366a9cad2bea40df4b25</td>\n",
       "      <td>8acbb544c9215b25c71a0c655200baea</td>\n",
       "      <td>8fbd92394e20d647ddcdc6085ce1604b</td>\n",
       "      <td>1</td>\n",
       "      <td>Teacher-Led</td>\n",
       "      <td>Ukuleles For Middle Schoolers</td>\n",
       "      <td>what sound is happier than a ukulele?  we have...</td>\n",
       "      <td>Music &amp; The Arts</td>\n",
       "      <td>Music</td>\n",
       "      <td>Grades 6-8</td>\n",
       "      <td>Supplies</td>\n",
       "      <td>$420.61</td>\n",
       "      <td>2013-01-01</td>\n",
       "      <td>Expired</td>\n",
       "      <td>NaT</td>\n",
       "    </tr>\n",
       "    <tr>\n",
       "      <th>2</th>\n",
       "      <td>7c915e8e1d27f10a94abd689e99c336f</td>\n",
       "      <td>0ae85ea7c7acc41cffa9f81dc61d46df</td>\n",
       "      <td>9140ac16d2e6cee45bd50b0b2ce8cd04</td>\n",
       "      <td>2</td>\n",
       "      <td>Teacher-Led</td>\n",
       "      <td>Big Books, Flip Books, And Everything In Between</td>\n",
       "      <td>my 1st graders may be small, but they have big...</td>\n",
       "      <td>Literacy &amp; Language, Special Needs</td>\n",
       "      <td>Literacy, Special Needs</td>\n",
       "      <td>Grades PreK-2</td>\n",
       "      <td>Books</td>\n",
       "      <td>$510.46</td>\n",
       "      <td>2013-01-01</td>\n",
       "      <td>Fully Funded</td>\n",
       "      <td>2013-01-07</td>\n",
       "    </tr>\n",
       "    <tr>\n",
       "      <th>3</th>\n",
       "      <td>feeec44c2a3a3d9a31c137a9780d2521</td>\n",
       "      <td>deddcdb20f86599cefa5e7eb31da309b</td>\n",
       "      <td>63750e765b46f9fa4d71e780047e896e</td>\n",
       "      <td>1</td>\n",
       "      <td>Teacher-Led</td>\n",
       "      <td>A Little for a Lot</td>\n",
       "      <td>our students were so excited to come to school...</td>\n",
       "      <td>Math &amp; Science, Literacy &amp; Language</td>\n",
       "      <td>Applied Sciences, Literature &amp; Writing</td>\n",
       "      <td>Grades 3-5</td>\n",
       "      <td>Supplies</td>\n",
       "      <td>$282.80</td>\n",
       "      <td>2013-01-01</td>\n",
       "      <td>Fully Funded</td>\n",
       "      <td>2013-05-29</td>\n",
       "    </tr>\n",
       "    <tr>\n",
       "      <th>4</th>\n",
       "      <td>037719bf60853f234610458a210f45a9</td>\n",
       "      <td>f3f0dc60ba3026944eeffe8b76cb8d9c</td>\n",
       "      <td>0d5b4cc12b2eb00013460d0ac38ce2a2</td>\n",
       "      <td>1</td>\n",
       "      <td>Teacher-Led</td>\n",
       "      <td>Technology in the Classroom</td>\n",
       "      <td>were you ever that kid that struggled to stay ...</td>\n",
       "      <td>Literacy &amp; Language, Math &amp; Science</td>\n",
       "      <td>Literacy, Mathematics</td>\n",
       "      <td>Grades PreK-2</td>\n",
       "      <td>Technology</td>\n",
       "      <td>$555.28</td>\n",
       "      <td>2013-01-01</td>\n",
       "      <td>Fully Funded</td>\n",
       "      <td>2013-02-14</td>\n",
       "    </tr>\n",
       "  </tbody>\n",
       "</table>\n",
       "</div>"
      ],
      "text/plain": [
       "                         Project ID                         School ID  \\\n",
       "0  77b7d3f2ac4e32d538914e4a8cb8a525  c2d5cb0a29a62e72cdccee939f434181   \n",
       "1  fd928b7f6386366a9cad2bea40df4b25  8acbb544c9215b25c71a0c655200baea   \n",
       "2  7c915e8e1d27f10a94abd689e99c336f  0ae85ea7c7acc41cffa9f81dc61d46df   \n",
       "3  feeec44c2a3a3d9a31c137a9780d2521  deddcdb20f86599cefa5e7eb31da309b   \n",
       "4  037719bf60853f234610458a210f45a9  f3f0dc60ba3026944eeffe8b76cb8d9c   \n",
       "\n",
       "                         Teacher ID  Teacher Project Posted Sequence  \\\n",
       "0  59f7d2c62f7e76a99d31db6f62b7b67c                                2   \n",
       "1  8fbd92394e20d647ddcdc6085ce1604b                                1   \n",
       "2  9140ac16d2e6cee45bd50b0b2ce8cd04                                2   \n",
       "3  63750e765b46f9fa4d71e780047e896e                                1   \n",
       "4  0d5b4cc12b2eb00013460d0ac38ce2a2                                1   \n",
       "\n",
       "  Project Type                                     Project Title  \\\n",
       "0  Teacher-Led                      Anti-Bullying Begins with Me   \n",
       "1  Teacher-Led                     Ukuleles For Middle Schoolers   \n",
       "2  Teacher-Led  Big Books, Flip Books, And Everything In Between   \n",
       "3  Teacher-Led                                A Little for a Lot   \n",
       "4  Teacher-Led                       Technology in the Classroom   \n",
       "\n",
       "                                       Project Essay  \\\n",
       "0  do you remember your favorite classroom from e...   \n",
       "1  what sound is happier than a ukulele?  we have...   \n",
       "2  my 1st graders may be small, but they have big...   \n",
       "3  our students were so excited to come to school...   \n",
       "4  were you ever that kid that struggled to stay ...   \n",
       "\n",
       "           Project Subject Category Tree  \\\n",
       "0  Applied Learning, Literacy & Language   \n",
       "1                       Music & The Arts   \n",
       "2     Literacy & Language, Special Needs   \n",
       "3    Math & Science, Literacy & Language   \n",
       "4    Literacy & Language, Math & Science   \n",
       "\n",
       "         Project Subject Subcategory Tree Project Grade Level Category  \\\n",
       "0           Character Education, Literacy                Grades PreK-2   \n",
       "1                                   Music                   Grades 6-8   \n",
       "2                 Literacy, Special Needs                Grades PreK-2   \n",
       "3  Applied Sciences, Literature & Writing                   Grades 3-5   \n",
       "4                   Literacy, Mathematics                Grades PreK-2   \n",
       "\n",
       "  Project Resource Category Project Cost Project Posted Date  \\\n",
       "0                     Books      $490.38          2013-01-01   \n",
       "1                  Supplies      $420.61          2013-01-01   \n",
       "2                     Books      $510.46          2013-01-01   \n",
       "3                  Supplies      $282.80          2013-01-01   \n",
       "4                Technology      $555.28          2013-01-01   \n",
       "\n",
       "  Project Current Status Project Fully Funded Date  \n",
       "0           Fully Funded                2013-03-12  \n",
       "1                Expired                       NaT  \n",
       "2           Fully Funded                2013-01-07  \n",
       "3           Fully Funded                2013-05-29  \n",
       "4           Fully Funded                2013-02-14  "
      ]
     },
     "execution_count": 7,
     "metadata": {},
     "output_type": "execute_result"
    }
   ],
   "source": [
    "projects.head()"
   ]
  },
  {
   "cell_type": "markdown",
   "metadata": {},
   "source": [
    "### Preprocess text data"
   ]
  },
  {
   "cell_type": "code",
   "execution_count": 8,
   "metadata": {},
   "outputs": [
    {
     "data": {
      "text/plain": [
       "Project ID                                  object\n",
       "School ID                                   object\n",
       "Teacher ID                                  object\n",
       "Teacher Project Posted Sequence              int64\n",
       "Project Type                                object\n",
       "Project Title                               object\n",
       "Project Essay                               object\n",
       "Project Subject Category Tree               object\n",
       "Project Subject Subcategory Tree            object\n",
       "Project Grade Level Category                object\n",
       "Project Resource Category                   object\n",
       "Project Cost                                object\n",
       "Project Posted Date                 datetime64[ns]\n",
       "Project Current Status                      object\n",
       "Project Fully Funded Date           datetime64[ns]\n",
       "dtype: object"
      ]
     },
     "execution_count": 8,
     "metadata": {},
     "output_type": "execute_result"
    }
   ],
   "source": [
    "projects.dtypes"
   ]
  },
  {
   "cell_type": "code",
   "execution_count": 9,
   "metadata": {
    "scrolled": true
   },
   "outputs": [],
   "source": [
    "text_features = [\"Project Title\", \"Project Essay\"]\n",
    "\n",
    "# Preprocess text columns to make them comparable\n",
    "for feature in text_features:\n",
    "    projects.loc[:,feature] = projects.loc[:,feature].astype(str).fillna(\"\")\n",
    "    projects.loc[:,feature] = projects.loc[:,feature].str.lower()\n",
    "    \n",
    "text = projects[\"Project Title\"] + \" \" + projects[\"Project Essay\"] # This is a pandas series containing title and essay text\n",
    "\n",
    "vectorizer = TfidfVectorizer(strip_accents=\"unicode\",\n",
    "                            analyzer=\"word\",\n",
    "                            stop_words=\"english\",\n",
    "                            max_df=0.9)\n",
    "\n",
    "tfidf_matrix = vectorizer.fit_transform(text)\n",
    "tfidf_feature_names = vectorizer.get_feature_names()"
   ]
  },
  {
   "cell_type": "markdown",
   "metadata": {},
   "source": [
    "# Unrelated Stuff / Testing\n",
    "\n"
   ]
  },
  {
   "cell_type": "markdown",
   "metadata": {},
   "source": [
    "## Understanding tfidf with small examples"
   ]
  },
  {
   "cell_type": "code",
   "execution_count": 61,
   "metadata": {},
   "outputs": [],
   "source": [
    "# Good intro with nice code: https://towardsdatascience.com/hacking-scikit-learns-vectorizers-9ef26a7170af\n",
    "# create a dataframe from a word matrix\n",
    "def wm2df(wm, feat_names):\n",
    "    \n",
    "    # create an index for each row\n",
    "    doc_names = ['Doc{:d}'.format(idx) for idx, _ in enumerate(wm)]\n",
    "    df = pd.DataFrame(data=wm.toarray(), index=doc_names,\n",
    "                      columns=feat_names)\n",
    "    return(df)"
   ]
  },
  {
   "cell_type": "code",
   "execution_count": 64,
   "metadata": {},
   "outputs": [
    {
     "name": "stdout",
     "output_type": "stream",
     "text": [
      "> The vocabulary doesn't contain 'write' and 'written' as seperate tokens. '-PRON-' is a special token for pronouns\n",
      "{'write': 6, 'sentence': 5, 'school': 4, 'computer': 1, '-PRON-': 0, 'furniture': 2, 'periphery': 3}\n",
      "\n",
      "> 'Furniture' and periphery have the highest idf weights because they only appear in one document. 'Computer' appears in two out of three documents\n",
      "{'-PRON-': 2.09861228866811, 'computer': 1.4054651081081644, 'furniture': 2.09861228866811, 'periphery': 2.09861228866811, 'school': 1.0, 'sentence': 1.0, 'write': 1.0}\n",
      "\n",
      "> The tf-idf matrix\n",
      "        -PRON-  computer  furniture  periphery    school  sentence     write\n",
      "Doc0  0.000000  0.630099   0.000000   0.000000  0.448321  0.448321  0.448321\n",
      "Doc1  0.610714  0.000000   0.610714   0.000000  0.291008  0.291008  0.291008\n",
      "Doc2  0.000000  0.458913   0.000000   0.685239  0.326520  0.326520  0.326520\n"
     ]
    }
   ],
   "source": [
    "\n",
    "test_series = pd.Series([\"I write a sentence about school's computer \", \"I've written a sentence about school furniture\", \"I am writing a sentence about school computer periphery\"])\n",
    "\n",
    "# smooth_idf adds one to every df to prevent division by \"0\"\n",
    "# Create spacy tokenzier\n",
    "spacy.load(\"en\")\n",
    "lemmatizer = spacy.lang.en.English()\n",
    "def spacy_tokenizer(doc):\n",
    "    tokens = lemmatizer(doc)\n",
    "    return([token.lemma_ for token in tokens])\n",
    "# Vectorize with custom spacy token lemmatizer, e.g. written, writing --> write\n",
    "test_tfidf = TfidfVectorizer(tokenizer=spacy_tokenizer, analyzer=\"word\", stop_words=\"english\", smooth_idf=False)\n",
    "test_fitted = test_tfidf.fit(test_series)\n",
    "test_transformed = test_fitted.transform(test_series)\n",
    "\n",
    "idf = test_tfidf.idf_\n",
    "\n",
    "print(\"> The vocabulary doesn't contain 'write' and 'written' as seperate tokens. '-PRON-' is a special token for pronouns\")\n",
    "print(test_tfidf.vocabulary_)\n",
    "print(\"\\n> 'Furniture' and periphery have the highest idf weights because they only appear in one document. 'Computer' appears in two out of three documents\")\n",
    "# Zip groups the elements from first object with elements from second object by index\n",
    "print(dict(zip(test_fitted.get_feature_names(), idf)))\n",
    "print(\"\\n> The tf-idf matrix\")\n",
    "print(wm2df(test_transformed, test_tfidf.get_feature_names()))"
   ]
  },
  {
   "cell_type": "code",
   "execution_count": null,
   "metadata": {},
   "outputs": [],
   "source": []
  }
 ],
 "metadata": {
  "kernelspec": {
   "display_name": "Python [conda env:nlp-lstm]",
   "language": "python",
   "name": "conda-env-nlp-lstm-py"
  },
  "language_info": {
   "codemirror_mode": {
    "name": "ipython",
    "version": 3
   },
   "file_extension": ".py",
   "mimetype": "text/x-python",
   "name": "python",
   "nbconvert_exporter": "python",
   "pygments_lexer": "ipython3",
   "version": "3.6.5"
  }
 },
 "nbformat": 4,
 "nbformat_minor": 2
}
